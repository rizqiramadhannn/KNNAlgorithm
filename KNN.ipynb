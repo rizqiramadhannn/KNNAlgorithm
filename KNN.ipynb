{
  "nbformat": 4,
  "nbformat_minor": 0,
  "metadata": {
    "colab": {
      "name": "Source_code_tupro3_kelompok5_if4303.ipynb",
      "provenance": [],
      "collapsed_sections": []
    },
    "kernelspec": {
      "name": "python3",
      "display_name": "Python 3"
    },
    "language_info": {
      "name": "python"
    }
  },
  "cells": [
    {
      "cell_type": "markdown",
      "metadata": {
        "id": "A4LEUiXrP3Ob"
      },
      "source": [
        "KELOMPOK 5\n",
        "\n",
        "\n",
        "\n",
        "*   Muhamad Hasbi Ashshiddiqi\t\t(1301190476)\n",
        "*   Restu Aditya Rachman \t\t\t(1301190433)\n",
        "*   Muhammad Rizqi Ramadhan \t\t(1301193325)\n",
        "\n"
      ]
    },
    {
      "cell_type": "code",
      "metadata": {
        "colab": {
          "base_uri": "https://localhost:8080/"
        },
        "id": "xjOpuEhaNbq8",
        "outputId": "2e0fd31b-97fa-4c0e-b75e-d2193b003eb9"
      },
      "source": [
        "!gdown --id 1cKuN4knkQnrX28_k7Wx990ioLZt3aBdV"
      ],
      "execution_count": null,
      "outputs": [
        {
          "output_type": "stream",
          "text": [
            "Downloading...\n",
            "From: https://drive.google.com/uc?id=1cKuN4knkQnrX28_k7Wx990ioLZt3aBdV\n",
            "To: /content/mobil.xls\n",
            "\r  0% 0.00/29.2k [00:00<?, ?B/s]\r100% 29.2k/29.2k [00:00<00:00, 28.0MB/s]\n"
          ],
          "name": "stdout"
        }
      ]
    },
    {
      "cell_type": "code",
      "metadata": {
        "colab": {
          "base_uri": "https://localhost:8080/",
          "height": 203
        },
        "id": "Qo5FjSBCNqiJ",
        "outputId": "b739d9d0-8c30-4678-d710-1c6932b97389"
      },
      "source": [
        "import pandas as pd\n",
        "\n",
        "df = pd.read_excel('mobil.xls')\n",
        "\n",
        "df.head()"
      ],
      "execution_count": null,
      "outputs": [
        {
          "output_type": "execute_result",
          "data": {
            "text/html": [
              "<div>\n",
              "<style scoped>\n",
              "    .dataframe tbody tr th:only-of-type {\n",
              "        vertical-align: middle;\n",
              "    }\n",
              "\n",
              "    .dataframe tbody tr th {\n",
              "        vertical-align: top;\n",
              "    }\n",
              "\n",
              "    .dataframe thead th {\n",
              "        text-align: right;\n",
              "    }\n",
              "</style>\n",
              "<table border=\"1\" class=\"dataframe\">\n",
              "  <thead>\n",
              "    <tr style=\"text-align: right;\">\n",
              "      <th></th>\n",
              "      <th>Nama Mobil</th>\n",
              "      <th>Ukuran</th>\n",
              "      <th>Kenyamanan</th>\n",
              "      <th>Irit</th>\n",
              "      <th>Kecepatan</th>\n",
              "      <th>Harga (Ratus Juta)</th>\n",
              "    </tr>\n",
              "  </thead>\n",
              "  <tbody>\n",
              "    <tr>\n",
              "      <th>0</th>\n",
              "      <td>Toyota Agya</td>\n",
              "      <td>4</td>\n",
              "      <td>4</td>\n",
              "      <td>9</td>\n",
              "      <td>6</td>\n",
              "      <td>1.00</td>\n",
              "    </tr>\n",
              "    <tr>\n",
              "      <th>1</th>\n",
              "      <td>Daihatsu Alya</td>\n",
              "      <td>4</td>\n",
              "      <td>3</td>\n",
              "      <td>9</td>\n",
              "      <td>6</td>\n",
              "      <td>1.10</td>\n",
              "    </tr>\n",
              "    <tr>\n",
              "      <th>2</th>\n",
              "      <td>Toyota Avanza</td>\n",
              "      <td>6</td>\n",
              "      <td>5</td>\n",
              "      <td>6</td>\n",
              "      <td>6</td>\n",
              "      <td>2.00</td>\n",
              "    </tr>\n",
              "    <tr>\n",
              "      <th>3</th>\n",
              "      <td>Daihatsu Xenia</td>\n",
              "      <td>6</td>\n",
              "      <td>4</td>\n",
              "      <td>6</td>\n",
              "      <td>6</td>\n",
              "      <td>1.75</td>\n",
              "    </tr>\n",
              "    <tr>\n",
              "      <th>4</th>\n",
              "      <td>Xpander</td>\n",
              "      <td>7</td>\n",
              "      <td>7</td>\n",
              "      <td>6</td>\n",
              "      <td>7</td>\n",
              "      <td>2.25</td>\n",
              "    </tr>\n",
              "  </tbody>\n",
              "</table>\n",
              "</div>"
            ],
            "text/plain": [
              "       Nama Mobil  Ukuran  Kenyamanan  Irit  Kecepatan  Harga (Ratus Juta)\n",
              "0     Toyota Agya       4           4     9          6                1.00\n",
              "1   Daihatsu Alya       4           3     9          6                1.10\n",
              "2   Toyota Avanza       6           5     6          6                2.00\n",
              "3  Daihatsu Xenia       6           4     6          6                1.75\n",
              "4         Xpander       7           7     6          7                2.25"
            ]
          },
          "metadata": {
            "tags": []
          },
          "execution_count": 11
        }
      ]
    },
    {
      "cell_type": "code",
      "metadata": {
        "colab": {
          "base_uri": "https://localhost:8080/",
          "height": 295
        },
        "id": "EWe1ETbMN54v",
        "outputId": "98f112e9-5a1f-4ddd-bae2-7f25b4ba4ff1"
      },
      "source": [
        "df.describe()"
      ],
      "execution_count": null,
      "outputs": [
        {
          "output_type": "execute_result",
          "data": {
            "text/html": [
              "<div>\n",
              "<style scoped>\n",
              "    .dataframe tbody tr th:only-of-type {\n",
              "        vertical-align: middle;\n",
              "    }\n",
              "\n",
              "    .dataframe tbody tr th {\n",
              "        vertical-align: top;\n",
              "    }\n",
              "\n",
              "    .dataframe thead th {\n",
              "        text-align: right;\n",
              "    }\n",
              "</style>\n",
              "<table border=\"1\" class=\"dataframe\">\n",
              "  <thead>\n",
              "    <tr style=\"text-align: right;\">\n",
              "      <th></th>\n",
              "      <th>Ukuran</th>\n",
              "      <th>Kenyamanan</th>\n",
              "      <th>Irit</th>\n",
              "      <th>Kecepatan</th>\n",
              "      <th>Harga (Ratus Juta)</th>\n",
              "    </tr>\n",
              "  </thead>\n",
              "  <tbody>\n",
              "    <tr>\n",
              "      <th>count</th>\n",
              "      <td>17.000000</td>\n",
              "      <td>17.000000</td>\n",
              "      <td>17.000000</td>\n",
              "      <td>17.000000</td>\n",
              "      <td>17.000000</td>\n",
              "    </tr>\n",
              "    <tr>\n",
              "      <th>mean</th>\n",
              "      <td>6.529412</td>\n",
              "      <td>6.352941</td>\n",
              "      <td>6.941176</td>\n",
              "      <td>6.823529</td>\n",
              "      <td>3.247059</td>\n",
              "    </tr>\n",
              "    <tr>\n",
              "      <th>std</th>\n",
              "      <td>2.034627</td>\n",
              "      <td>2.234423</td>\n",
              "      <td>1.784327</td>\n",
              "      <td>1.131111</td>\n",
              "      <td>2.406597</td>\n",
              "    </tr>\n",
              "    <tr>\n",
              "      <th>min</th>\n",
              "      <td>3.000000</td>\n",
              "      <td>3.000000</td>\n",
              "      <td>4.000000</td>\n",
              "      <td>5.000000</td>\n",
              "      <td>0.800000</td>\n",
              "    </tr>\n",
              "    <tr>\n",
              "      <th>25%</th>\n",
              "      <td>5.000000</td>\n",
              "      <td>4.000000</td>\n",
              "      <td>6.000000</td>\n",
              "      <td>6.000000</td>\n",
              "      <td>1.750000</td>\n",
              "    </tr>\n",
              "    <tr>\n",
              "      <th>50%</th>\n",
              "      <td>7.000000</td>\n",
              "      <td>7.000000</td>\n",
              "      <td>7.000000</td>\n",
              "      <td>7.000000</td>\n",
              "      <td>2.300000</td>\n",
              "    </tr>\n",
              "    <tr>\n",
              "      <th>75%</th>\n",
              "      <td>8.000000</td>\n",
              "      <td>8.000000</td>\n",
              "      <td>9.000000</td>\n",
              "      <td>8.000000</td>\n",
              "      <td>5.000000</td>\n",
              "    </tr>\n",
              "    <tr>\n",
              "      <th>max</th>\n",
              "      <td>10.000000</td>\n",
              "      <td>10.000000</td>\n",
              "      <td>10.000000</td>\n",
              "      <td>9.000000</td>\n",
              "      <td>10.000000</td>\n",
              "    </tr>\n",
              "  </tbody>\n",
              "</table>\n",
              "</div>"
            ],
            "text/plain": [
              "          Ukuran  Kenyamanan       Irit  Kecepatan  Harga (Ratus Juta)\n",
              "count  17.000000   17.000000  17.000000  17.000000           17.000000\n",
              "mean    6.529412    6.352941   6.941176   6.823529            3.247059\n",
              "std     2.034627    2.234423   1.784327   1.131111            2.406597\n",
              "min     3.000000    3.000000   4.000000   5.000000            0.800000\n",
              "25%     5.000000    4.000000   6.000000   6.000000            1.750000\n",
              "50%     7.000000    7.000000   7.000000   7.000000            2.300000\n",
              "75%     8.000000    8.000000   9.000000   8.000000            5.000000\n",
              "max    10.000000   10.000000  10.000000   9.000000           10.000000"
            ]
          },
          "metadata": {
            "tags": []
          },
          "execution_count": 3
        }
      ]
    },
    {
      "cell_type": "code",
      "metadata": {
        "id": "zDQpG6EeOTOw",
        "colab": {
          "base_uri": "https://localhost:8080/"
        },
        "outputId": "afba5174-17ab-420c-d072-78a4da087299"
      },
      "source": [
        "df.isna().sum()"
      ],
      "execution_count": null,
      "outputs": [
        {
          "output_type": "execute_result",
          "data": {
            "text/plain": [
              "Nama Mobil            0\n",
              "Ukuran                0\n",
              "Kenyamanan            0\n",
              "Irit                  0\n",
              "Kecepatan             0\n",
              "Harga (Ratus Juta)    0\n",
              "dtype: int64"
            ]
          },
          "metadata": {
            "tags": []
          },
          "execution_count": 4
        }
      ]
    },
    {
      "cell_type": "code",
      "metadata": {
        "colab": {
          "base_uri": "https://localhost:8080/",
          "height": 203
        },
        "id": "X8qxN0IfJvNg",
        "outputId": "536e8e53-60ff-4b4a-a8fa-cd0d7dda43c2"
      },
      "source": [
        "df = df.rename({'Nama Mobil':'Mobil'}, axis=1)\n",
        "df = df.rename({'Harga (Ratus Juta)':'Harga'}, axis=1)\n",
        "df.head()"
      ],
      "execution_count": null,
      "outputs": [
        {
          "output_type": "execute_result",
          "data": {
            "text/html": [
              "<div>\n",
              "<style scoped>\n",
              "    .dataframe tbody tr th:only-of-type {\n",
              "        vertical-align: middle;\n",
              "    }\n",
              "\n",
              "    .dataframe tbody tr th {\n",
              "        vertical-align: top;\n",
              "    }\n",
              "\n",
              "    .dataframe thead th {\n",
              "        text-align: right;\n",
              "    }\n",
              "</style>\n",
              "<table border=\"1\" class=\"dataframe\">\n",
              "  <thead>\n",
              "    <tr style=\"text-align: right;\">\n",
              "      <th></th>\n",
              "      <th>Mobil</th>\n",
              "      <th>Ukuran</th>\n",
              "      <th>Kenyamanan</th>\n",
              "      <th>Irit</th>\n",
              "      <th>Kecepatan</th>\n",
              "      <th>Harga</th>\n",
              "    </tr>\n",
              "  </thead>\n",
              "  <tbody>\n",
              "    <tr>\n",
              "      <th>0</th>\n",
              "      <td>Toyota Agya</td>\n",
              "      <td>4</td>\n",
              "      <td>4</td>\n",
              "      <td>9</td>\n",
              "      <td>6</td>\n",
              "      <td>1.00</td>\n",
              "    </tr>\n",
              "    <tr>\n",
              "      <th>1</th>\n",
              "      <td>Daihatsu Alya</td>\n",
              "      <td>4</td>\n",
              "      <td>3</td>\n",
              "      <td>9</td>\n",
              "      <td>6</td>\n",
              "      <td>1.10</td>\n",
              "    </tr>\n",
              "    <tr>\n",
              "      <th>2</th>\n",
              "      <td>Toyota Avanza</td>\n",
              "      <td>6</td>\n",
              "      <td>5</td>\n",
              "      <td>6</td>\n",
              "      <td>6</td>\n",
              "      <td>2.00</td>\n",
              "    </tr>\n",
              "    <tr>\n",
              "      <th>3</th>\n",
              "      <td>Daihatsu Xenia</td>\n",
              "      <td>6</td>\n",
              "      <td>4</td>\n",
              "      <td>6</td>\n",
              "      <td>6</td>\n",
              "      <td>1.75</td>\n",
              "    </tr>\n",
              "    <tr>\n",
              "      <th>4</th>\n",
              "      <td>Xpander</td>\n",
              "      <td>7</td>\n",
              "      <td>7</td>\n",
              "      <td>6</td>\n",
              "      <td>7</td>\n",
              "      <td>2.25</td>\n",
              "    </tr>\n",
              "  </tbody>\n",
              "</table>\n",
              "</div>"
            ],
            "text/plain": [
              "            Mobil  Ukuran  Kenyamanan  Irit  Kecepatan  Harga\n",
              "0     Toyota Agya       4           4     9          6   1.00\n",
              "1   Daihatsu Alya       4           3     9          6   1.10\n",
              "2   Toyota Avanza       6           5     6          6   2.00\n",
              "3  Daihatsu Xenia       6           4     6          6   1.75\n",
              "4         Xpander       7           7     6          7   2.25"
            ]
          },
          "metadata": {
            "tags": []
          },
          "execution_count": 5
        }
      ]
    },
    {
      "cell_type": "code",
      "metadata": {
        "id": "Rhizgf7eKrAn"
      },
      "source": [
        "data_x = df.drop('Mobil', axis=1)\n",
        "data_y = df['Mobil']"
      ],
      "execution_count": null,
      "outputs": []
    },
    {
      "cell_type": "code",
      "metadata": {
        "colab": {
          "base_uri": "https://localhost:8080/",
          "height": 287
        },
        "id": "pwY01CEeXsQt",
        "outputId": "b66602e3-1600-4e97-e723-07088ab2950d"
      },
      "source": [
        "for col in range(len(data_x)):\n",
        "    data_x['Harga'][col] = ((data_x['Harga'][col] - (data_x['Harga']).min()) / ((data_x['Harga']).max() - (data_x['Harga']).min()))\n",
        "\n",
        "data_x.head()"
      ],
      "execution_count": null,
      "outputs": [
        {
          "output_type": "stream",
          "text": [
            "/usr/local/lib/python3.7/dist-packages/ipykernel_launcher.py:2: SettingWithCopyWarning: \n",
            "A value is trying to be set on a copy of a slice from a DataFrame\n",
            "\n",
            "See the caveats in the documentation: https://pandas.pydata.org/pandas-docs/stable/user_guide/indexing.html#returning-a-view-versus-a-copy\n",
            "  \n"
          ],
          "name": "stderr"
        },
        {
          "output_type": "execute_result",
          "data": {
            "text/html": [
              "<div>\n",
              "<style scoped>\n",
              "    .dataframe tbody tr th:only-of-type {\n",
              "        vertical-align: middle;\n",
              "    }\n",
              "\n",
              "    .dataframe tbody tr th {\n",
              "        vertical-align: top;\n",
              "    }\n",
              "\n",
              "    .dataframe thead th {\n",
              "        text-align: right;\n",
              "    }\n",
              "</style>\n",
              "<table border=\"1\" class=\"dataframe\">\n",
              "  <thead>\n",
              "    <tr style=\"text-align: right;\">\n",
              "      <th></th>\n",
              "      <th>Ukuran</th>\n",
              "      <th>Kenyamanan</th>\n",
              "      <th>Irit</th>\n",
              "      <th>Kecepatan</th>\n",
              "      <th>Harga</th>\n",
              "    </tr>\n",
              "  </thead>\n",
              "  <tbody>\n",
              "    <tr>\n",
              "      <th>0</th>\n",
              "      <td>4</td>\n",
              "      <td>4</td>\n",
              "      <td>9</td>\n",
              "      <td>6</td>\n",
              "      <td>0.021739</td>\n",
              "    </tr>\n",
              "    <tr>\n",
              "      <th>1</th>\n",
              "      <td>4</td>\n",
              "      <td>3</td>\n",
              "      <td>9</td>\n",
              "      <td>6</td>\n",
              "      <td>0.108061</td>\n",
              "    </tr>\n",
              "    <tr>\n",
              "      <th>2</th>\n",
              "      <td>6</td>\n",
              "      <td>5</td>\n",
              "      <td>6</td>\n",
              "      <td>6</td>\n",
              "      <td>0.198257</td>\n",
              "    </tr>\n",
              "    <tr>\n",
              "      <th>3</th>\n",
              "      <td>6</td>\n",
              "      <td>4</td>\n",
              "      <td>6</td>\n",
              "      <td>6</td>\n",
              "      <td>0.173203</td>\n",
              "    </tr>\n",
              "    <tr>\n",
              "      <th>4</th>\n",
              "      <td>7</td>\n",
              "      <td>7</td>\n",
              "      <td>6</td>\n",
              "      <td>7</td>\n",
              "      <td>0.223312</td>\n",
              "    </tr>\n",
              "  </tbody>\n",
              "</table>\n",
              "</div>"
            ],
            "text/plain": [
              "   Ukuran  Kenyamanan  Irit  Kecepatan     Harga\n",
              "0       4           4     9          6  0.021739\n",
              "1       4           3     9          6  0.108061\n",
              "2       6           5     6          6  0.198257\n",
              "3       6           4     6          6  0.173203\n",
              "4       7           7     6          7  0.223312"
            ]
          },
          "metadata": {
            "tags": []
          },
          "execution_count": 7
        }
      ]
    },
    {
      "cell_type": "code",
      "metadata": {
        "id": "VIV8TTWkMgh3"
      },
      "source": [
        "def euclidean_distance(data_x, data_input):\n",
        "    dist = 0\n",
        "    for i in range(len(data_input)):\n",
        "        dist += (data_x[i] - data_input[i])**2\n",
        "\n",
        "    return dist ** (1/2)\n",
        "\n",
        "def manhattan_distance(data_x, data_input):\n",
        "    dist = 0\n",
        "    for i in range(len(data_x)):\n",
        "        dist += abs(data_x[i] - data_input[i])\n",
        "\n",
        "    return dist\n",
        " \n",
        "def minkowski_distance(data_x, data_input, p=2):\n",
        "    dist = 0\n",
        "    for i in range(len(data_x)):\n",
        "        dist += abs(data_x[i] - data_input[i]) ** p\n",
        "\n",
        "    return dist ** (1/p)\n",
        "\n",
        "def supremum_distance(data_x, data_input):\n",
        "    dist = []\n",
        "    for i in range(len(data_x)):\n",
        "        dist.append(abs(data_x[i] - data_input[i]))\n",
        "\n",
        "    return max(dist)"
      ],
      "execution_count": null,
      "outputs": []
    },
    {
      "cell_type": "code",
      "metadata": {
        "id": "NvASBauRN8HV"
      },
      "source": [
        "def distance(data_x, data_y, data_input):\n",
        "    k = 3\n",
        "    euclidean = []\n",
        "    manhattan = []\n",
        "    minkowski = []\n",
        "    supremum = []\n",
        "\n",
        "    for index,row in data_x.iterrows():\n",
        "      euclidean.append([euclidean_distance(row, data_input), data_y[index]])\n",
        "      manhattan.append([manhattan_distance(row, data_input), data_y[index]])\n",
        "      minkowski.append([minkowski_distance(row, data_input), data_y[index]])\n",
        "      supremum.append([supremum_distance(row, data_input), data_y[index]])\n",
        "    \n",
        "    euclidean = sorted(euclidean)[:k]\n",
        "    manhattan = sorted(manhattan)[:k]\n",
        "    minkowski = sorted(minkowski)[:k]\n",
        "    supremum = sorted(supremum)[:k]\n",
        "\n",
        "    return euclidean, manhattan, minkowski, supremum"
      ],
      "execution_count": null,
      "outputs": []
    },
    {
      "cell_type": "code",
      "metadata": {
        "id": "Votc3TdMTk6s",
        "colab": {
          "base_uri": "https://localhost:8080/"
        },
        "outputId": "0c6db750-027d-4adc-d088-33b313306cd3"
      },
      "source": [
        "euclidean, manhattan, minkowski, supremum = [],[],[],[]\n",
        "\n",
        "ukuran = int(input(\"Ukuran: \"))\n",
        "kenyamanan = int(input(\"Kenyamanan: \"))\n",
        "irit = int(input(\"Irit: \"))\n",
        "kecepatan = int(input(\"Kecepatan: \"))\n",
        "harga = int(input(\"Harga (Ratus Juta): \"))\n",
        "\n",
        "data_input = [ukuran, kenyamanan, irit, kecepatan, harga]\n",
        "\n",
        "euclidean, manhattan, minkowski, supremum = distance(data_x, data_y, data_input)\n",
        "distances = {'Euclidean':euclidean, 'Manhattan':manhattan, 'Minkowski':minkowski, 'Supremum':supremum}\n",
        "\n",
        "rekomendasi = {}\n",
        "for key,items in distances.items():\n",
        "  mobil = []\n",
        "  print(f'\\n{key} Distance')\n",
        "  i = 1\n",
        "  for item in items:\n",
        "    print(f'{i}. {item[1]} memiliki jarak {round(item[0],2)}')\n",
        "    mobil.append(item[1])\n",
        "    i += 1\n",
        "  rekomendasi[key] = mobil\n",
        "\n",
        "df_rekomendasi = pd.DataFrame(rekomendasi)\n",
        "df_rekomendasi.to_excel(\"rekomendasi.xls\")"
      ],
      "execution_count": null,
      "outputs": [
        {
          "output_type": "stream",
          "text": [
            "Ukuran: 1\n",
            "Kenyamanan: 2\n",
            "Irit: 3\n",
            "Kecepatan: 4\n",
            "Harga: 5\n",
            "\n",
            "Euclidean Distance\n",
            "1. Daihatsu Xenia memiliki jarak 8.08\n",
            "2. Toyota Avanza memiliki jarak 8.37\n",
            "3. Daihatsu Alya memiliki jarak 8.6\n",
            "\n",
            "Manhattan Distance\n",
            "1. Daihatsu Xenia memiliki jarak 16.83\n",
            "2. Karimun memiliki jarak 16.88\n",
            "3. Daihatsu Alya memiliki jarak 16.89\n",
            "\n",
            "Minkowski Distance\n",
            "1. Daihatsu Xenia memiliki jarak 8.08\n",
            "2. Toyota Avanza memiliki jarak 8.37\n",
            "3. Daihatsu Alya memiliki jarak 8.6\n",
            "\n",
            "Supremum Distance\n",
            "1. Daihatsu Xenia memiliki jarak 5.0\n",
            "2. Toyota Avanza memiliki jarak 5.0\n",
            "3. Daihatsu Alya memiliki jarak 6.0\n"
          ],
          "name": "stdout"
        }
      ]
    },
    {
      "cell_type": "code",
      "metadata": {
        "id": "8H8w8UlxiWjT"
      },
      "source": [
        ""
      ],
      "execution_count": null,
      "outputs": []
    }
  ]
}